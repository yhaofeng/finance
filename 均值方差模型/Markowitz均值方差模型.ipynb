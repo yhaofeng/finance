{
 "cells": [
  {
   "cell_type": "markdown",
   "metadata": {},
   "source": [
    "假定投资人初始财富为$W_0$,投资$N$种资产，相应各资产的比例分别是$w_1,\\cdots,w_N$，各资产的未来收益为$R_1,\\cdots,R_N$，为随机变量。我们定义一个效用函数$U(\\cdot)$，我们投资决策就是最大化效用函数，可以写成\n",
    "\\begin{equation}\n",
    "\\begin{array}{l}\n",
    "\\max_{w_i}\\mathrm{E}[U(\\sum_{i=1}^{N}w_iR_iW_0)]\\\\\n",
    "s.t. \\sum_{i=1}^{N}w_i=1\n",
    "\\end{array}\n",
    "\\end{equation}\n",
    "上面的公式是最基础的工具。Markowitz将收益的方差视为风险，在给定收益的情况下，最小化风险，即\n",
    "\\begin{equation}\n",
    "\\begin{array}{l}\n",
    "\\min_{w_i}\\sum_{i=1}^{N}w_i^2\\sigma^2_i+\\sum_{i\\neq j}w_iw_j\\sigma(R_i,R_j)\\\\\n",
    "s.t. \\sum_{i=1}^{N}w_i=1\\\\\n",
    " \\sum_{i=1}^{N}w_i\\mathrm{E}(R_i)=\\bar{R}\n",
    "\\end{array}\n",
    "\\end{equation}\n",
    "上面的问题通常采用拉格朗日乘子法解决。我们求得的最优解为："
   ]
  },
  {
   "cell_type": "code",
   "execution_count": 1,
   "metadata": {},
   "outputs": [],
   "source": [
    "import numpy as np\n",
    "import pandas as pd"
   ]
  },
  {
   "cell_type": "code",
   "execution_count": null,
   "metadata": {},
   "outputs": [],
   "source": []
  }
 ],
 "metadata": {
  "kernelspec": {
   "display_name": "Python 3",
   "language": "python",
   "name": "python3"
  },
  "language_info": {
   "codemirror_mode": {
    "name": "ipython",
    "version": 3
   },
   "file_extension": ".py",
   "mimetype": "text/x-python",
   "name": "python",
   "nbconvert_exporter": "python",
   "pygments_lexer": "ipython3",
   "version": "3.7.7"
  }
 },
 "nbformat": 4,
 "nbformat_minor": 4
}
